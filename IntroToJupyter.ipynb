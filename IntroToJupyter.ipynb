{
 "cells": [
  {
   "cell_type": "markdown",
   "id": "cd2a77e0-6f07-4701-b4d9-d3e46e951525",
   "metadata": {
    "tags": []
   },
   "source": [
    "# Connectionist modelling workshop \n",
    "## Introduction Worksheet\n",
    "\n",
    "Welcome to the first worksheet."
   ]
  },
  {
   "cell_type": "markdown",
   "id": "c2d3d808-3a7f-4d7d-880f-551c89984c3c",
   "metadata": {},
   "source": [
    "Jupyter notebooks consist of text like this, and \"cells\" with Python code like the one right below. You can \"run\" these cells (i.e. execute the code) by clicking in them and hitting shift+return, or else use the \"Run\" button in the top toolbar.\n",
    "\n",
    "In the first few cells we will practice the usage of this kind of notebook.\n",
    "\n",
    "In general, try to not modify the code in the Python cells. If you accidentally change things and the code does not work anymore, you may have to re-download the worksheet from Blackboard.\n",
    "An exception is where you're explicitly asked to change the code as part of the tasks. This is indicated with hashtags like in the following line. Importantly, always write to the LEFT of the hashtag (the hashtag tells the Python interpreter to ignore everything after the hashtag):"
   ]
  },
  {
   "cell_type": "code",
   "execution_count": null,
   "id": "535f3410-29c5-4e79-a04f-3d2ae3c645e8",
   "metadata": {},
   "outputs": [],
   "source": [
    "#INSERT CODE HERE"
   ]
  },
  {
   "cell_type": "markdown",
   "id": "9a88b3a9-9ae3-45f5-877d-98981f41af92",
   "metadata": {},
   "source": [
    "OK let's get started.\n",
    "In the cell below we are defining two variables, x and s. x is a number, and s is a \"string\", i.e. alphabetical/text.\n",
    "Run the cell to practice running a cell. The code instructs the computer to display hello on one line, and the number 10 on the next line."
   ]
  },
  {
   "cell_type": "code",
   "execution_count": null,
   "id": "5b7f963c-082b-4114-92d5-724cbfae6bc0",
   "metadata": {},
   "outputs": [],
   "source": [
    "x=5\n",
    "s=\"hello\"\n",
    "\n",
    "print(s)\n",
    "print(x*2)"
   ]
  },
  {
   "cell_type": "markdown",
   "id": "12d4cbe0-c0b8-48b0-8753-0e050d97f01f",
   "metadata": {},
   "source": [
    "If you've done this correctly, \"hello\" and \"10\" should be displayed right above this line.\n",
    "\n",
    "You now have 2 **variables**: one called x and one called s. x is an integer and will therefore work in equations, whereas s is a \"string\" and is treated as text.\n",
    "\n",
    "\n",
    "As you can see the line `print(s)` produces as its output the content of the variable s. If you change the content of s, the output will be something else.\n",
    "\n",
    "This is actually what we call a **function**: `print` is the name of the function and the variable we put in brackets is the **argument** that we supply to the function. \n",
    "\n",
    "As you can also see from the output to this cell, we can provide a more complex argument, such as `x*2`. Here, because x is an integer, this will be evaluated by the Python interpreter and the output will correspond to the outcome of the content of x multiplied by 2. \n",
    "\n",
    "Practice changing the code:\n",
    "(a) Change the value of s to a different word and watch how the output changes.\n",
    "(b) Change the value of x to a different number and watch how the output changes.\n",
    "(c) What happens if you change the last line to `print(s*2)`? Why does that happen?\n",
    "\n",
    "Now, practice inserting some code. Insert your name where it is indicated in the next cell. Then run the cell. (Note: if you run the cell before inserting your name, it will throw an error.)"
   ]
  },
  {
   "cell_type": "code",
   "execution_count": null,
   "id": "4680ad44-5fc5-44dd-8c78-ec2f41d93312",
   "metadata": {},
   "outputs": [],
   "source": [
    "name = #INSERT YOUR NAME TO THE LEFT OF THIS HASHTAG, with quotation marks like this: \"name\"\n",
    "s=s+\" \"+name+\"!\"\n",
    "\n",
    "print(s)"
   ]
  },
  {
   "cell_type": "markdown",
   "id": "e85b2602-1d9c-42b7-8e31-9f208c4f4e15",
   "metadata": {},
   "source": [
    "You should see \"hello ... !\" with your name right above this cell because strings can be concatenated with the plus sign."
   ]
  },
  {
   "cell_type": "markdown",
   "id": "132b03e8-09dc-4928-80d4-dc8e2d93d164",
   "metadata": {},
   "source": [
    "Well done so far. "
   ]
  },
  {
   "cell_type": "markdown",
   "id": "a146af71-82c4-4858-9030-1825bdd7b36c",
   "metadata": {},
   "source": [
    "-------\n",
    "Worksheet developed by Nadja Althaus n.althaus@uea.ac.uk"
   ]
  }
 ],
 "metadata": {
  "kernelspec": {
   "display_name": "Python 3",
   "language": "python",
   "name": "python3"
  },
  "language_info": {
   "codemirror_mode": {
    "name": "ipython",
    "version": 3
   },
   "file_extension": ".py",
   "mimetype": "text/x-python",
   "name": "python",
   "nbconvert_exporter": "python",
   "pygments_lexer": "ipython3",
   "version": "3.10.2"
  }
 },
 "nbformat": 4,
 "nbformat_minor": 5
}
